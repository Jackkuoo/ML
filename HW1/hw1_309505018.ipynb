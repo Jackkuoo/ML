{
 "cells": [
  {
   "cell_type": "code",
   "execution_count": 159,
   "metadata": {},
   "outputs": [],
   "source": [
    "import os\n",
    "import sys\n",
    "import math\n",
    "import pandas as pd\n",
    "import numpy as np\n",
    "import matplotlib.pyplot as plt"
   ]
  },
  {
   "cell_type": "code",
   "execution_count": 160,
   "metadata": {},
   "outputs": [
    {
     "name": "stdout",
     "output_type": "stream",
     "text": [
      "(500, 7)\n",
      "(500,)\n"
     ]
    }
   ],
   "source": [
    "# Load the training data\n",
    "X = pd.read_csv(\"dataset/data_X.csv\", encoding='big5').values #shape: (500, 8)\n",
    "X = X[:, 1:] #shape: (500, 7)\n",
    "X = X.astype(float)\n",
    "X = np.array(X)\n",
    "print(X.shape)\n",
    "\n",
    "\n",
    "Y = pd.read_csv(\"dataset/data_T.csv\", encoding='big5').values\n",
    "Y = Y[:, 1:]\n",
    "Y = np.array(Y).reshape(500,)\n",
    "print(Y.shape)"
   ]
  },
  {
   "cell_type": "code",
   "execution_count": 161,
   "metadata": {},
   "outputs": [
    {
     "name": "stdout",
     "output_type": "stream",
     "text": [
      "[[0.94       0.92857143 0.75       ... 0.875      0.91346154 1.        ]\n",
      " [0.68       0.53571429 0.75       ... 0.875      0.66346154 1.        ]\n",
      " [0.52       0.42857143 0.5        ... 0.625      0.38461538 1.        ]\n",
      " ...\n",
      " [0.8        1.         1.         ... 1.         0.88461538 1.        ]\n",
      " [0.44       0.39285714 0.75       ... 1.         0.5224359  0.        ]\n",
      " [0.74       0.75       0.75       ... 0.875      0.71794872 0.        ]]\n"
     ]
    }
   ],
   "source": [
    "# scaling\n",
    "maxnum = np.max(X, axis=0)\n",
    "minnum = np.min(X, axis=0)\n",
    "x_data = (X - minnum) / (maxnum - minnum + 1e-20)\n",
    "print(x_data)"
   ]
  },
  {
   "cell_type": "code",
   "execution_count": 162,
   "metadata": {},
   "outputs": [],
   "source": [
    "# Gradient Descent M=1\n",
    "# ydata = b + w*xdata\n",
    "b = 0.0\n",
    "w = np.ones(7)\n",
    "lr = 1\n",
    "epoch = 20000\n",
    "b_lr = 0.0\n",
    "w_lr = np.zeros(7)\n"
   ]
  },
  {
   "cell_type": "code",
   "execution_count": 163,
   "metadata": {},
   "outputs": [
    {
     "name": "stdout",
     "output_type": "stream",
     "text": [
      "epoch:2000\n",
      " Loss:0.059504220823631375\n",
      "epoch:4000\n",
      " Loss:0.05950420877785124\n",
      "epoch:6000\n",
      " Loss:0.05950420877764954\n",
      "epoch:8000\n",
      " Loss:0.05950420877764953\n",
      "epoch:10000\n",
      " Loss:0.05950420877764953\n",
      "epoch:12000\n",
      " Loss:0.05950420877764953\n",
      "epoch:14000\n",
      " Loss:0.05950420877764953\n",
      "epoch:16000\n",
      " Loss:0.05950420877764953\n",
      "epoch:18000\n",
      " Loss:0.05950420877764953\n",
      "epoch:20000\n",
      " Loss:0.05950420877764953\n",
      "w:  [0.09292532 0.07778323 0.02376547 0.00634455 0.06743497 0.36936137\n",
      " 0.02430748]\n",
      "b:  0.34821986902755603\n"
     ]
    }
   ],
   "source": [
    "for e in range(epoch):\n",
    "  # Calculate the value of the loss function\n",
    "  error = Y - b - np.dot(x_data, w) #shape: (500,)\n",
    "  loss = np.mean(np.square(error)) # Mean Square Error\n",
    "\n",
    "  # Calculate gradient\n",
    "  b_grad = -2*np.sum(error)*1 #shape: ()\n",
    "  w_grad = -2*np.dot(error, x_data) #shape: (7,)\n",
    "  \n",
    "  # update learning rate\n",
    "  b_lr = b_lr + b_grad**2\n",
    "  w_lr = w_lr + w_grad**2\n",
    "\n",
    "  # update parameters.\n",
    "  b = b - lr/np.sqrt(b_lr) * b_grad\n",
    "  w = w - lr/np.sqrt(w_lr) * w_grad\n",
    "\n",
    "  # Print \"Root Mean Square Error\" per 2000 epoch\n",
    "  if (e+1) % 2000 == 0:\n",
    "    print('epoch:{}\\n Loss:{}'.format(e+1, np.sqrt(loss)))\n",
    "print(\"w: \",w)\n",
    "print(\"b: \",b)"
   ]
  },
  {
   "cell_type": "code",
   "execution_count": 164,
   "metadata": {},
   "outputs": [],
   "source": [
    "# Gradient Descent M=2\n",
    "# ydata = b + w2*xdata + w1*xdata^2\n",
    "b = 0.0\n",
    "w1 = np.ones(7)\n",
    "w2 = np.ones(7)\n",
    "lr = 1\n",
    "epoch = 20000\n",
    "b_lr = 0.0\n",
    "w1_lr = np.zeros(7)\n",
    "w2_lr = np.zeros(7)"
   ]
  },
  {
   "cell_type": "code",
   "execution_count": 167,
   "metadata": {},
   "outputs": [
    {
     "name": "stdout",
     "output_type": "stream",
     "text": [
      "epoch:2000\n",
      " Loss:0.059039211771226806\n",
      "epoch:4000\n",
      " Loss:0.059038835671637986\n",
      "epoch:6000\n",
      " Loss:0.05903859268360227\n",
      "epoch:8000\n",
      " Loss:0.059038435591609636\n",
      "epoch:10000\n",
      " Loss:0.05903833399516439\n",
      "epoch:12000\n",
      " Loss:0.059038268276338304\n",
      "epoch:14000\n",
      " Loss:0.05903822576043162\n",
      "epoch:16000\n",
      " Loss:0.05903819825341032\n",
      "epoch:18000\n",
      " Loss:0.05903818045607411\n",
      "epoch:20000\n",
      " Loss:0.05903816894066609\n",
      "w1:  [-0.01851845 -0.04820637  0.08139181  0.02149234 -0.00470777 -0.08379753\n",
      "  0.01244561]\n",
      "w2:  [ 0.111644    0.13424626 -0.06327941 -0.01464704  0.07128418  0.45882721\n",
      "  0.01244561]\n",
      "b:  0.32919061576409986\n"
     ]
    }
   ],
   "source": [
    "plt_loss =[]\n",
    "plt_epoch = []\n",
    "for e in range(epoch):\n",
    "  # Calculate the value of the loss function\n",
    "  x_data_square = np.square(x_data) #shape: (500,7)\n",
    "  error = Y - b - np.dot(x_data, w2) - np.dot(x_data_square, w1) #shape: (500,)\n",
    "  loss = np.mean(np.square(error)) # Mean Square Error\n",
    "\n",
    "  # Calculate gradient\n",
    "  b_grad = -2*np.sum(error)*1 #shape: ()\n",
    "  w1_grad = -2*np.dot(error, x_data_square) #shape: (7,)\n",
    "  w2_grad = -2*np.dot(error, x_data) #shape: (7,)\n",
    "  \n",
    "  # update learning rate\n",
    "  b_lr = b_lr + b_grad**2\n",
    "  w1_lr = w1_lr + w1_grad**2\n",
    "  w2_lr = w2_lr + w2_grad**2\n",
    "\n",
    "  # update parameters.\n",
    "  b = b - lr/np.sqrt(b_lr) * b_grad\n",
    "  w1 = w1 - lr/np.sqrt(w1_lr) * w1_grad\n",
    "  w2 = w2 - lr/np.sqrt(w2_lr) * w2_grad\n",
    "\n",
    "  plt_loss.append(np.sqrt(loss))\n",
    "  plt_epoch.append(e)\n",
    "\n",
    "  # Print \"Root Mean Square Error\" per 1000 epoch\n",
    "  if (e+1) % 2000 == 0:\n",
    "    print('epoch:{}\\n Loss:{}'.format(e+1, np.sqrt(loss)))\n",
    "\n",
    "print(\"w1: \",w1)\n",
    "print(\"w2: \",w2)\n",
    "print(\"b: \",b)"
   ]
  },
  {
   "cell_type": "code",
   "execution_count": 168,
   "metadata": {},
   "outputs": [
    {
     "data": {
      "image/png": "[encoded data removed]",
      "text/plain": [
       "<Figure size 432x288 with 1 Axes>"
      ]
     },
     "metadata": {
      "needs_background": "light"
     },
     "output_type": "display_data"
    }
   ],
   "source": [
    "plt.plot(plt_epoch, plt_loss)\n",
    "plt.title('Loss Function')\n",
    "plt.ylabel('Loss')\n",
    "plt.xlabel('epoch')\n",
    "plt.show()"
   ]
  },
  {
   "cell_type": "code",
   "execution_count": 175,
   "metadata": {},
   "outputs": [
    {
     "name": "stdout",
     "output_type": "stream",
     "text": [
      "0.02 0.05\n"
     ]
    }
   ],
   "source": [
    "#calculate MAP theta\n",
    "hypothesis = np.linspace(0, 1, 101)\n",
    "theta_hat_1 = hypothesis[np.argmax(w1)]\n",
    "theta_hat_2 = hypothesis[np.argmax(w2)]\n",
    "print(theta_hat_1,theta_hat_2)"
   ]
  },
  {
   "cell_type": "code",
   "execution_count": 176,
   "metadata": {},
   "outputs": [],
   "source": [
    "# Gradient Descent M=2 for Maximum a posterior approach\n",
    "# ydata = b + w2*xdata + w1*xdata^2\n",
    "b = 0.0\n",
    "w1 = np.ones(7)\n",
    "w2 = np.ones(7)\n",
    "lr = 1\n",
    "epoch = 20000\n",
    "b_lr = 0.0\n",
    "w1_lr = np.zeros(7)\n",
    "w2_lr = np.zeros(7)"
   ]
  },
  {
   "cell_type": "code",
   "execution_count": 180,
   "metadata": {},
   "outputs": [
    {
     "name": "stdout",
     "output_type": "stream",
     "text": [
      "epoch:2000\n",
      " MAP Loss:0.059299922504985496\n",
      "epoch:4000\n",
      " MAP Loss:0.05927349890374746\n",
      "epoch:6000\n",
      " MAP Loss:0.05925087590137326\n",
      "epoch:8000\n",
      " MAP Loss:0.05923119619268617\n",
      "epoch:10000\n",
      " MAP Loss:0.059213856288005434\n",
      "epoch:12000\n",
      " MAP Loss:0.05919842368600604\n",
      "epoch:14000\n",
      " MAP Loss:0.05918458189042279\n",
      "epoch:16000\n",
      " MAP Loss:0.05917209379455025\n",
      "epoch:18000\n",
      " MAP Loss:0.05916077722045926\n",
      "epoch:20000\n",
      " MAP Loss:0.059150488517141976\n"
     ]
    }
   ],
   "source": [
    "pltmap_loss =[]\n",
    "pltmap_epoch = []\n",
    "for e in range(epoch):\n",
    "  # Calculate the value of the loss function\n",
    "  x_data_square = np.square(x_data) #shape: (500,7)\n",
    "  error = Y - b - theta_hat_1*np.dot(x_data, w2)- theta_hat_2*np.dot(x_data_square, w1)\n",
    "  loss = np.mean(np.square(error)) # Mean Square Error\n",
    "\n",
    "  # Calculate gradient\n",
    "  b_grad = -2*np.sum(error)*1 #shape: ()\n",
    "  w1_grad = -2*np.dot(error, x_data_square) #shape: (7,)\n",
    "  w2_grad = -2*np.dot(error, x_data) #shape: (7,)\n",
    "  \n",
    "  # update learning rate\n",
    "  b_lr = b_lr + b_grad**2\n",
    "  w1_lr = w1_lr + w1_grad**2\n",
    "  w2_lr = w2_lr + w2_grad**2\n",
    "\n",
    "  # update parameters.\n",
    "  b = b - lr/np.sqrt(b_lr) * b_grad\n",
    "  w1 = w1 - lr/np.sqrt(w1_lr) * w1_grad\n",
    "  w2 = w2 - lr/np.sqrt(w2_lr) * w2_grad\n",
    "\n",
    "  pltmap_loss.append(np.sqrt(loss))\n",
    "  pltmap_epoch.append(e)\n",
    "  # Print \"Root Mean Square Error\" per 2000 epoch\n",
    "  if (e+1) % 2000 == 0:\n",
    "    print('epoch:{}\\n MAP Loss:{}'.format(e+1, np.sqrt(loss)))\n"
   ]
  },
  {
   "cell_type": "code",
   "execution_count": 181,
   "metadata": {},
   "outputs": [
    {
     "data": {
      "image/png": "[encoded data removed]",
      "text/plain": [
       "<Figure size 432x288 with 1 Axes>"
      ]
     },
     "metadata": {
      "needs_background": "light"
     },
     "output_type": "display_data"
    }
   ],
   "source": [
    "plt.plot(pltmap_epoch, pltmap_loss)\n",
    "plt.title('MAP Loss Function')\n",
    "plt.ylabel('Loss')\n",
    "plt.xlabel('epoch')\n",
    "plt.show()"
   ]
  },
  {
   "cell_type": "code",
   "execution_count": null,
   "metadata": {},
   "outputs": [],
   "source": []
  }
 ],
 "metadata": {
  "kernelspec": {
   "display_name": "Python 3",
   "language": "python",
   "name": "python3"
  },
  "language_info": {
   "codemirror_mode": {
    "name": "ipython",
    "version": 3
   },
   "file_extension": ".py",
   "mimetype": "text/x-python",
   "name": "python",
   "nbconvert_exporter": "python",
   "pygments_lexer": "ipython3",
   "version": "3.6.5"
  }
 },
 "nbformat": 4,
 "nbformat_minor": 4
}
